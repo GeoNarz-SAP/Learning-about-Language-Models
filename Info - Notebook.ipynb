{
 "cells": [
  {
   "cell_type": "markdown",
   "metadata": {},
   "source": [
    "## Learning Language Models"
   ]
  },
  {
   "cell_type": "markdown",
   "metadata": {},
   "source": [
    "### Learning about Attention - By Hand"
   ]
  },
  {
   "cell_type": "code",
   "execution_count": 1,
   "metadata": {},
   "outputs": [
    {
     "name": "stderr",
     "output_type": "stream",
     "text": [
      "[nltk_data] Downloading package word2vec_sample to\n",
      "[nltk_data]     C:\\Users\\I745352\\AppData\\Roaming\\nltk_data...\n",
      "[nltk_data]   Package word2vec_sample is already up-to-date!\n"
     ]
    },
    {
     "data": {
      "text/plain": [
       "True"
      ]
     },
     "execution_count": 1,
     "metadata": {},
     "output_type": "execute_result"
    }
   ],
   "source": [
    "import numpy as np\n",
    "import seaborn as sns\n",
    "import matplotlib.pyplot as plt\n",
    "import re\n",
    "import gensim\n",
    "from nltk.data import find\n",
    "import nltk\n",
    "\n",
    "nltk.download(\"word2vec_sample\")"
   ]
  },
  {
   "cell_type": "code",
   "execution_count": 2,
   "metadata": {},
   "outputs": [],
   "source": [
    "def softmax(x, axis=0):\n",
    "    \"\"\"Compute softmax values for each sets of scores in x.\"\"\"\n",
    "    return np.exp(x)/np.sum(np.exp(x))\n",
    "\n",
    "def get_word2vec_embedding(words):\n",
    "    \"\"\"Function that takes in a list of words and returns a list of their embeddings, \n",
    "    based on a pretrained word2vec encoder.\"\"\"\n",
    "    word2vec_sample = str(find(\"models/word2vec_sample/pruned.word2vec.txt\"))\n",
    "    model = gensim.models.KeyedVectors.load_word2vec_format(\n",
    "        word2vec_sample, binary=False\n",
    "    )\n",
    "    \n",
    "    output=[]\n",
    "    words_pass = []\n",
    "    for word in words:\n",
    "        try:\n",
    "            output.append(np.array(model.word_vec(word)))\n",
    "            words_pass.append(word)\n",
    "        except:\n",
    "            pass\n",
    "    \n",
    "    embeddings = np.array(output)\n",
    "    del model\n",
    "    return embeddings, words_pass\n",
    "    "
   ]
  },
  {
   "cell_type": "markdown",
   "metadata": {},
   "source": [
    "### Cross Attention\n",
    "![Attention in Detail](attention_in_detail.png \"Attention in Detail\")"
   ]
  },
  {
   "cell_type": "markdown",
   "metadata": {},
   "source": []
  }
 ],
 "metadata": {
  "kernelspec": {
   "display_name": "Python 3",
   "language": "python",
   "name": "python3"
  },
  "language_info": {
   "codemirror_mode": {
    "name": "ipython",
    "version": 3
   },
   "file_extension": ".py",
   "mimetype": "text/x-python",
   "name": "python",
   "nbconvert_exporter": "python",
   "pygments_lexer": "ipython3",
   "version": "3.12.4"
  }
 },
 "nbformat": 4,
 "nbformat_minor": 2
}
